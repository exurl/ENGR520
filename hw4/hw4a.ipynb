{
 "cells": [
  {
   "cell_type": "code",
   "execution_count": 2,
   "id": "c04dc0b2",
   "metadata": {},
   "outputs": [],
   "source": [
    "import gymnasium as gym\n",
    "from scipy.signal import savgol_filter\n",
    "import matplotlib.pyplot as plt\n",
    "import numpy as np\n",
    "import time\n",
    "import pickle"
   ]
  },
  {
   "cell_type": "markdown",
   "id": "ae261d34",
   "metadata": {},
   "source": [
    "### Setup"
   ]
  },
  {
   "cell_type": "code",
   "execution_count": null,
   "id": "e4bdb791",
   "metadata": {},
   "outputs": [],
   "source": [
    "# Training hyperparameters\n",
    "learning_rate = 0.1  # alpha\n",
    "discount_factor = 0.95  # gamma\n",
    "episodes = 25000  # Number of training episodes\n",
    "show_every = 1000  # How often to print progress\n",
    "render = False\n",
    "epsilon = 1.0  # Initial exploration rate\n",
    "min_epsilon = 0.01  # Minimum exploration rate\n",
    "epsilon_decay_rate = 0.9995  # epsilon decay rate\n",
    "\n",
    "# State discretization (number of buckets for each observation dimension)\n",
    "# (Cart Position, Cart Velocity, Pole Angle, Pole Velocity)\n",
    "num_buckets = (10, 10, 12, 12)\n",
    "\n",
    "# State bounds (limits)\n",
    "# (Cart Position, Cart Velocity, Pole Angle, Pole Velocity)\n",
    "state_bounds = [\n",
    "    (-4.8, 4.8),\n",
    "    (-4., 4.),\n",
    "    (-0.418, 0.418),  # 24 deg\n",
    "    (-4., 4.),\n",
    "]\n",
    "# ^these are for binning; these are not actual limits on the environment"
   ]
  },
  {
   "cell_type": "code",
   "execution_count": 4,
   "id": "accf5b88",
   "metadata": {},
   "outputs": [
    {
     "name": "stdout",
     "output_type": "stream",
     "text": [
      "Action Space: Discrete(2)\n",
      "Observation Space: Box([-4.8000002e+00 -3.4028235e+38 -4.1887903e-01 -3.4028235e+38], [4.8000002e+00 3.4028235e+38 4.1887903e-01 3.4028235e+38], (4,), float32)\n"
     ]
    }
   ],
   "source": [
    "# Environment initialization\n",
    "env = gym.make(\"CartPole-v1\", render_mode=\"human\" if render else None)\n",
    "print(f\"Action Space: {env.action_space}\")  # 0: push left, 1: push right\n",
    "print(f\"Observation Space: {env.observation_space}\")"
   ]
  },
  {
   "cell_type": "code",
   "execution_count": 5,
   "id": "33fc5b2b",
   "metadata": {},
   "outputs": [
    {
     "name": "stdout",
     "output_type": "stream",
     "text": [
      "Q Table shape: (10, 10, 12, 12, 2)\n"
     ]
    }
   ],
   "source": [
    "# Q-Table initialization\n",
    "q_table_shape = num_buckets + (env.action_space.n,)\n",
    "q_table = np.zeros(q_table_shape)\n",
    "print(f\"Q Table shape: {q_table.shape}\")"
   ]
  },
  {
   "cell_type": "code",
   "execution_count": 6,
   "id": "7df28338",
   "metadata": {},
   "outputs": [],
   "source": [
    "def discretize_state(observation, state_bounds, num_buckets):\n",
    "    \"\"\"Convert a continuous observation into a discrete state using bucketing.\"\"\"\n",
    "    discrete_state = []\n",
    "    for i, (obs_val, (low, high), num_b) in enumerate(zip(observation, state_bounds, num_buckets)):\n",
    "        bucket_size = (high - low) / num_b\n",
    "        bucket_index = int((obs_val - low) / bucket_size)\n",
    "        if bucket_index not in range(num_buckets[i]):\n",
    "            bucket_index = max(0, min(bucket_index, num_buckets[i] - 1))  # Clamp to valid range\n",
    "        discrete_state.append(bucket_index)\n",
    "    return tuple(discrete_state)"
   ]
  },
  {
   "cell_type": "markdown",
   "id": "361ad51f",
   "metadata": {},
   "source": [
    "### Training Loop"
   ]
  },
  {
   "cell_type": "code",
   "execution_count": null,
   "id": "6347e164",
   "metadata": {},
   "outputs": [],
   "source": [
    "total_rewards = []\n",
    "highest_reward = 0\n",
    "\n",
    "for episode in range(episodes):\n",
    "    # Initialize\n",
    "    observation, info = env.reset()\n",
    "    current_discrete_state = discretize_state(observation, state_bounds, num_buckets)\n",
    "    total_reward = 0\n",
    "    terminated = False\n",
    "    truncated = False\n",
    "\n",
    "    # Decide whether to render this episode\n",
    "    render_this_episode = episode % show_every == 0\n",
    "\n",
    "    while not terminated and not truncated:\n",
    "        # Render\n",
    "        if render_this_episode and render:\n",
    "            try:\n",
    "                env.render()\n",
    "                time.sleep(0.01)  # 100 FPS maximum\n",
    "            except Exception as e:\n",
    "                print(f\"Could not render: {e}\")\n",
    "                pass\n",
    "\n",
    "        # Epsilon-greedy action selection\n",
    "        if np.random.random() > epsilon:\n",
    "            action = np.argmax(q_table[current_discrete_state])  # Exploit\n",
    "        else:\n",
    "            action = env.action_space.sample()  # Explore\n",
    "\n",
    "        # Take action and time step\n",
    "        next_observation, reward, terminated, truncated, info = env.step(action)\n",
    "        next_discrete_state = discretize_state(next_observation, state_bounds, num_buckets)\n",
    "\n",
    "        # Update Q table\n",
    "        if not terminated:\n",
    "            # Estimate maximum Q-value @ t+1\n",
    "            max_future_q = np.max(q_table[next_discrete_state])\n",
    "\n",
    "            # Current Q-value\n",
    "            current_q = q_table[current_discrete_state + (action,)]\n",
    "\n",
    "            # New Q from Bellman equation\n",
    "            new_q = current_q + learning_rate * (\n",
    "                reward + discount_factor * max_future_q - current_q\n",
    "            )\n",
    "\n",
    "            # Update\n",
    "            q_table[current_discrete_state + (action,)] = new_q\n",
    "\n",
    "        elif terminated:\n",
    "            q_table[current_discrete_state + (action,)] = 0\n",
    "\n",
    "        # State transition\n",
    "        current_discrete_state = next_discrete_state\n",
    "        total_reward += reward\n",
    "\n",
    "    # Decay epsilon after episode\n",
    "    epsilon = max(min_epsilon, epsilon * epsilon_decay_rate)\n",
    "\n",
    "    # Track rewards and print progress\n",
    "    total_rewards.append(total_reward)\n",
    "    if total_reward > highest_reward:\n",
    "        highest_reward = total_reward\n",
    "\n",
    "    if episode % show_every == 0:\n",
    "        avg_reward = sum(total_rewards[-show_every:]) / len(\n",
    "            total_rewards[-show_every:]\n",
    "        )\n",
    "        print(\n",
    "            f\"Episode: {episode:5} | Avg Reward (last {show_every}): {avg_reward:6.2f} | Epsilon: {epsilon:6.4f} | Highest: {highest_reward:5}\"\n",
    "        )"
   ]
  },
  {
   "cell_type": "code",
   "execution_count": null,
   "id": "04a4c9fb",
   "metadata": {},
   "outputs": [],
   "source": [
    "# Save trained model\n",
    "data = {\n",
    "    \"q_table\": q_table,\n",
    "    \"total_rewards\": total_rewards\n",
    "    }\n",
    "with open(\"data_QL.pkl\", \"wb\") as f:\n",
    "    pickle.dump(data, f)"
   ]
  },
  {
   "cell_type": "markdown",
   "id": "8d59e961",
   "metadata": {},
   "source": [
    "### Postprocessing"
   ]
  },
  {
   "cell_type": "code",
   "execution_count": 7,
   "id": "8b230452",
   "metadata": {},
   "outputs": [],
   "source": [
    "# Load trained model\n",
    "with open(\"data_QL.pkl\", \"rb\") as f:\n",
    "    data = pickle.load(f)\n",
    "    q_table = data[\"q_table\"]\n",
    "    total_rewards = data[\"total_rewards\"]"
   ]
  },
  {
   "cell_type": "code",
   "execution_count": 10,
   "id": "5335abc2",
   "metadata": {},
   "outputs": [
    {
     "data": {
      "image/png": "[encoded data removed]",
      "text/plain": [
       "<Figure size 640x480 with 1 Axes>"
      ]
     },
     "metadata": {},
     "output_type": "display_data"
    }
   ],
   "source": [
    "# Plot\n",
    "plt.plot(savgol_filter(total_rewards, 1001, 3), label=\"filtered\")\n",
    "plt.plot(total_rewards, alpha=0.3, label=\"raw\")\n",
    "plt.title(\"Total Rewards per Episode\")\n",
    "plt.xlabel(\"Episode\")\n",
    "plt.ylabel(\"Total Reward\")\n",
    "plt.ylim([0, 500])\n",
    "plt.show()"
   ]
  },
  {
   "cell_type": "code",
   "execution_count": 9,
   "id": "0123697f",
   "metadata": {},
   "outputs": [
    {
     "name": "stderr",
     "output_type": "stream",
     "text": [
      "<frozen importlib._bootstrap>:488: RuntimeWarning: Your system is avx2 capable but pygame was not built with support for it. The performance of some of your blits could be adversely affected. Consider enabling compile time detection with environment variables like PYGAME_DETECT_AVX2=1 if you are compiling without cross compilation.\n"
     ]
    }
   ],
   "source": [
    "# Render a single episode using the trained Q-table\n",
    "env = gym.make(\"CartPole-v1\", render_mode=\"human\")\n",
    "observation, info = env.reset()\n",
    "discrete_state = discretize_state(observation, state_bounds, num_buckets)\n",
    "terminated = False\n",
    "truncated = False\n",
    "\n",
    "while not terminated and not truncated:\n",
    "    action = np.argmax(q_table[discrete_state])\n",
    "    next_observation, reward, terminated, truncated, info = env.step(action)\n",
    "    discrete_state = discretize_state(next_observation, state_bounds, num_buckets)\n",
    "    time.sleep(0.02)  # 50 FPS max\n",
    "\n",
    "env.close()"
   ]
  }
 ],
 "metadata": {
  "kernelspec": {
   "display_name": "rl",
   "language": "python",
   "name": "python3"
  },
  "language_info": {
   "codemirror_mode": {
    "name": "ipython",
    "version": 3
   },
   "file_extension": ".py",
   "mimetype": "text/x-python",
   "name": "python",
   "nbconvert_exporter": "python",
   "pygments_lexer": "ipython3",
   "version": "3.13.3"
  }
 },
 "nbformat": 4,
 "nbformat_minor": 5
}
