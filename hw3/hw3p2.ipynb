{
 "cells": [
  {
   "cell_type": "markdown",
   "id": "fffc7a1b",
   "metadata": {},
   "source": [
    "# Exercise 3-2"
   ]
  },
  {
   "cell_type": "code",
   "execution_count": 1,
   "id": "bd99441a",
   "metadata": {},
   "outputs": [],
   "source": [
    "import pysindy as ps\n",
    "import numpy as np\n",
    "from numpy.typing import ArrayLike, NDArray\n",
    "import matplotlib.pyplot as plt\n",
    "from scipy.integrate import solve_ivp"
   ]
  },
  {
   "cell_type": "code",
   "execution_count": 2,
   "id": "ac1f8886",
   "metadata": {},
   "outputs": [],
   "source": [
    "plt.rcParams.update({\n",
    "    \"text.usetex\": True,\n",
    "    \"font.family\": \"serif\",\n",
    "    \"font.serif\": \"Computer Modern Roman\",\n",
    "    \"font.size\": 10,\n",
    "    \"xtick.labelsize\": 8,\n",
    "    \"ytick.labelsize\": 8,\n",
    "})"
   ]
  },
  {
   "cell_type": "markdown",
   "id": "5da3d6fd",
   "metadata": {},
   "source": [
    "### Numerical Simulation"
   ]
  },
  {
   "cell_type": "code",
   "execution_count": 3,
   "id": "9812711b",
   "metadata": {},
   "outputs": [],
   "source": [
    "def lorenz_dynamics(\n",
    "    t: float,\n",
    "    x: ArrayLike,\n",
    "    sigma: float=10,\n",
    "    rho: float=28,\n",
    "    beta: float=8/3,\n",
    ") -> NDArray:\n",
    "    \"\"\"Dynamics of the Lorenz system\n",
    "\n",
    "    Args:\n",
    "        x (ArrayLike): N x 3 array of [x, y, z]\n",
    "        sigma (float, optional): Model parameter. Defaults to 10.\n",
    "        rho (float, optional): Model parameter. Defaults to 28.\n",
    "        beta (float, optional): Model parameter. Defaults to 8/3.\n",
    "\n",
    "    Returns:\n",
    "        NDArray: Nx3 array of time derivatives of x1 and x2\n",
    "    \"\"\"\n",
    "    xdot = np.empty_like(x)\n",
    "    xdot[0] = sigma * (x[1] - x[0])\n",
    "    xdot[1] = x[0] * (rho - x[2]) - x[1]\n",
    "    xdot[2] = x[0] * x[1] - beta * x[2]\n",
    "    return xdot"
   ]
  },
  {
   "cell_type": "code",
   "execution_count": 4,
   "id": "d320f47d",
   "metadata": {},
   "outputs": [],
   "source": [
    "# Compute trajectory\n",
    "x0 = np.array([0, 1, 20])\n",
    "dt = 0.0001\n",
    "t = np.arange(0, 10+dt, dt)\n",
    "solution = solve_ivp(lorenz_dynamics, (t[0], t[-1]), x0, t_eval=t)\n",
    "x = solution.y.T[int(1/dt):]  # truncate first t=1 of data\n",
    "t = t[int(1/dt):]"
   ]
  },
  {
   "cell_type": "markdown",
   "id": "19a9f6cd",
   "metadata": {},
   "source": [
    "### 3.2.1 SINDy Data Length Study"
   ]
  },
  {
   "cell_type": "code",
   "execution_count": 5,
   "id": "3d286ead",
   "metadata": {},
   "outputs": [
    {
     "name": "stdout",
     "output_type": "stream",
     "text": [
      "simulation time: 0.5\n",
      "(x)' = -10.003 x + 10.003 y\n",
      "(y)' = 0.247 1 + 28.081 x + -1.021 y + -1.000 x z\n",
      "(z)' = -55.597 1 + 36.681 x + -20.192 y + 0.462 z + -1.891 x^2 + 1.803 x y + -1.312 x z + 0.498 y z\n",
      "\n",
      "simulation time: 1\n",
      "(x)' = -9.992 x + 9.998 y\n",
      "(y)' = 0.252 1 + 28.289 x + -1.095 y + -1.005 x z\n",
      "(z)' = -2.662 z + 0.999 x y\n",
      "\n",
      "simulation time: 1.5\n",
      "(x)' = -10.006 x + 10.007 y\n",
      "(y)' = 9.241 1 + 3.013 x + 11.052 y + -0.732 z + 1.443 x^2 + -0.684 x y + -0.346 y z\n",
      "(z)' = -2.665 z + 1.000 x y\n",
      "\n",
      "simulation time: 2\n",
      "(x)' = -10.005 x + 10.005 y\n",
      "(y)' = 27.782 x + -0.960 y + -0.992 x z\n",
      "(z)' = -2.665 z + 0.999 x y\n",
      "\n"
     ]
    }
   ],
   "source": [
    "t_ends = [0.5, 1, 1.5, 2]\n",
    "feature_library = ps.feature_library.PolynomialLibrary(degree=2)\n",
    "for t_end in t_ends:\n",
    "    idx_end = int(t_end / dt)\n",
    "    model = ps.SINDy(optimizer=ps.STLSQ(threshold=0.2), feature_names=[\"x\", \"y\", \"z\"])\n",
    "    model.fit(x[:idx_end], t=t[:idx_end])\n",
    "    print(f\"simulation time: {t_end}\")\n",
    "    model.print()\n",
    "    print(\"\")"
   ]
  },
  {
   "cell_type": "code",
   "execution_count": 6,
   "id": "8bfb8b4f",
   "metadata": {},
   "outputs": [
    {
     "data": {
      "image/png": "[encoded data removed]",
      "text/plain": [
       "<Figure size 300x300 with 1 Axes>"
      ]
     },
     "metadata": {},
     "output_type": "display_data"
    }
   ],
   "source": [
    "# Plot phase portrait up to t=2\n",
    "t_end = 2\n",
    "idx_end = int(2 / dt)\n",
    "\n",
    "fig = plt.figure(figsize=(3, 3))\n",
    "ax = fig.add_subplot(projection=\"3d\")\n",
    "ax.plot(x[:idx_end, 0], x[:idx_end, 1], x[:idx_end, 2])\n",
    "ax.plot(x[idx_end, 0], x[idx_end, 1], x[idx_end, 2], \".k\")\n",
    "ax.set_xlabel(\"$x$\")\n",
    "ax.set_ylabel(\"$y$\")\n",
    "ax.set_zlabel(\"$z$\")\n",
    "# ax.set_title(\"Lorenz System Phase Portrait\")\n",
    "ax.grid(True)\n",
    "ax.set_box_aspect(None, zoom=0.75)  # fix z-axis label off canvas\n",
    "fig.savefig(\"p2fig1.pdf\", bbox_inches=\"tight\")\n",
    "plt.show()"
   ]
  },
  {
   "cell_type": "code",
   "execution_count": 7,
   "id": "f2832e4f",
   "metadata": {},
   "outputs": [],
   "source": [
    "# Store the coefficient matrix from the last model\n",
    "Phi_mask = model.coefficients().astype(bool)"
   ]
  },
  {
   "cell_type": "markdown",
   "id": "ebc2180b",
   "metadata": {},
   "source": [
    "### 3.2.2 SINDy Sampling Rate Study"
   ]
  },
  {
   "cell_type": "code",
   "execution_count": 8,
   "id": "93e77ad5",
   "metadata": {},
   "outputs": [
    {
     "name": "stdout",
     "output_type": "stream",
     "text": [
      "time step: 0.0001\n",
      "simulation time: 0.5\n",
      "🟥 SPARSITY FAIL\n",
      "\n",
      "time step: 0.0001\n",
      "simulation time: 1\n",
      "🟥 SPARSITY FAIL\n",
      "\n",
      "time step: 0.0001\n",
      "simulation time: 2\n",
      "🟩 SPARSITY PASS\n",
      "\n",
      "time step: 0.0001\n",
      "simulation time: 4\n",
      "🟩 SPARSITY PASS\n",
      "\n",
      "time step: 0.0001\n",
      "simulation time: 9\n",
      "🟩 SPARSITY PASS\n",
      "\n",
      "time step: 0.001\n",
      "simulation time: 0.5\n",
      "🟥 SPARSITY FAIL\n",
      "\n",
      "time step: 0.001\n",
      "simulation time: 1\n",
      "🟥 SPARSITY FAIL\n",
      "\n",
      "time step: 0.001\n",
      "simulation time: 2\n",
      "🟩 SPARSITY PASS\n",
      "\n",
      "time step: 0.001\n",
      "simulation time: 4\n",
      "🟩 SPARSITY PASS\n",
      "\n",
      "time step: 0.001\n",
      "simulation time: 9\n",
      "🟩 SPARSITY PASS\n",
      "\n",
      "time step: 0.01\n",
      "simulation time: 0.5\n",
      "🟥 SPARSITY FAIL\n",
      "\n",
      "time step: 0.01\n",
      "simulation time: 1\n",
      "🟥 SPARSITY FAIL\n",
      "\n",
      "time step: 0.01\n",
      "simulation time: 2\n",
      "🟥 SPARSITY FAIL\n",
      "\n",
      "time step: 0.01\n",
      "simulation time: 4\n",
      "🟩 SPARSITY PASS\n",
      "\n",
      "time step: 0.01\n",
      "simulation time: 9\n",
      "🟩 SPARSITY PASS\n",
      "\n",
      "time step: 0.1\n",
      "simulation time: 0.5\n",
      "🟥 SPARSITY FAIL\n",
      "\n",
      "time step: 0.1\n",
      "simulation time: 1\n",
      "🟥 SPARSITY FAIL\n",
      "\n",
      "time step: 0.1\n",
      "simulation time: 2\n",
      "🟥 SPARSITY FAIL\n",
      "\n",
      "time step: 0.1\n",
      "simulation time: 4\n",
      "🟥 SPARSITY FAIL\n",
      "\n",
      "time step: 0.1\n",
      "simulation time: 9\n",
      "🟥 SPARSITY FAIL\n",
      "\n"
     ]
    }
   ],
   "source": [
    "dt_base = 0.0001\n",
    "dts = [0.0001, 0.001, 0.01, 0.1]\n",
    "t_ends = [0.5, 1, 2, 4, 9]\n",
    "feature_library = ps.feature_library.PolynomialLibrary(degree=2)\n",
    "for dt in dts:\n",
    "    skip = int(dt / dt_base)\n",
    "    for t_end in t_ends:\n",
    "        idx_end = int(t_end / dt_base)\n",
    "        model = ps.SINDy(optimizer=ps.STLSQ(threshold=0.2), feature_names=[\"x\", \"y\", \"z\"])\n",
    "        model.fit(x[:idx_end:skip], t[:idx_end:skip])\n",
    "        print(f\"time step: {dt}\")\n",
    "        print(f\"simulation time: {t_end}\")\n",
    "        if np.all(model.coefficients().astype(bool)== Phi_mask):\n",
    "            print(\"🟩 SPARSITY PASS\\n\")\n",
    "        else:\n",
    "            print(\"🟥 SPARSITY FAIL\\n\")"
   ]
  },
  {
   "cell_type": "markdown",
   "id": "7412be44",
   "metadata": {},
   "source": [
    "### 3.1.3 SINDy Noise Study"
   ]
  },
  {
   "cell_type": "code",
   "execution_count": 9,
   "id": "b6c5a23d",
   "metadata": {},
   "outputs": [],
   "source": [
    "dt = dt_base\n",
    "noise_seeds = list(range(50))\n",
    "noise_stds = np.logspace(-2, 0, 65)\n",
    "t_ends = [0.5, 1, 2, 4, 9]\n",
    "probability_matrix = np.empty((len(noise_stds), len(t_ends)))\n",
    "feature_library = ps.feature_library.PolynomialLibrary(degree=2)\n",
    "for i, noise_std in enumerate(noise_stds):\n",
    "    for j, t_end in enumerate(t_ends):\n",
    "        success_mask = []\n",
    "        for noise_seed in noise_seeds:\n",
    "            np.random.seed(noise_seed)\n",
    "            idx_end = int(t_end / dt_base)\n",
    "            noise = noise_std * np.random.randn(*x[:idx_end].shape)\n",
    "            model = ps.SINDy(optimizer=ps.STLSQ(threshold=0.2), feature_names=[\"x\", \"y\", \"z\"])\n",
    "            model.fit(x[:idx_end] + noise, t[:idx_end])\n",
    "            if np.all(model.coefficients().astype(bool)== Phi_mask):\n",
    "                success_mask.append(True)\n",
    "            else:\n",
    "                success_mask.append(False)\n",
    "        probability_matrix[i, j] = sum(success_mask) / len(success_mask)"
   ]
  },
  {
   "cell_type": "code",
   "execution_count": 10,
   "id": "feffcaca",
   "metadata": {},
   "outputs": [
    {
     "data": {
      "image/png": "[encoded data removed]",
      "text/plain": [
       "<Figure size 400x400 with 1 Axes>"
      ]
     },
     "metadata": {},
     "output_type": "display_data"
    }
   ],
   "source": [
    "fig = plt.figure(figsize=(4, 4))\n",
    "ax = fig.add_subplot()\n",
    "ax.set_xscale(\"log\")\n",
    "for t_end, t_end_probabilities in zip(t_ends, probability_matrix.T):\n",
    "    label = r\"$t_{\\textrm{end}}=\" + f\"{t_end:2.1f}$\"\n",
    "    ax.plot(noise_stds, t_end_probabilities, label=label)\n",
    "ax.set_xlabel(\"Noise $\\sigma$\")\n",
    "ax.set_ylabel(\"Probability of matching true sparsity matrix\")\n",
    "ax.legend()\n",
    "ax.grid(True)\n",
    "fig.savefig(\"p2fig2.pdf\", bbox_inches=\"tight\")\n",
    "plt.show()"
   ]
  }
 ],
 "metadata": {
  "kernelspec": {
   "display_name": "base",
   "language": "python",
   "name": "python3"
  },
  "language_info": {
   "codemirror_mode": {
    "name": "ipython",
    "version": 3
   },
   "file_extension": ".py",
   "mimetype": "text/x-python",
   "name": "python",
   "nbconvert_exporter": "python",
   "pygments_lexer": "ipython3",
   "version": "3.11.10"
  }
 },
 "nbformat": 4,
 "nbformat_minor": 5
}
