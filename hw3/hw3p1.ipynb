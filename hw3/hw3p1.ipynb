{
 "cells": [
  {
   "cell_type": "markdown",
   "id": "eeb9f6cf",
   "metadata": {},
   "source": [
    "# Exercise 3-1"
   ]
  },
  {
   "cell_type": "code",
   "execution_count": null,
   "id": "da5cc3ce",
   "metadata": {},
   "outputs": [],
   "source": [
    "import pysindy as ps\n",
    "import numpy as np\n",
    "from numpy.typing import ArrayLike, NDArray\n",
    "import matplotlib.pyplot as plt\n",
    "from scipy.integrate import solve_ivp"
   ]
  },
  {
   "cell_type": "code",
   "execution_count": 2,
   "id": "838cdca7",
   "metadata": {},
   "outputs": [],
   "source": [
    "plt.rcParams.update({\n",
    "    \"text.usetex\": True,\n",
    "    \"font.family\": \"serif\",\n",
    "    \"font.serif\": \"Computer Modern Roman\",\n",
    "    \"font.size\": 10,\n",
    "    \"xtick.labelsize\": 8,\n",
    "    \"ytick.labelsize\": 8,\n",
    "})"
   ]
  },
  {
   "cell_type": "markdown",
   "id": "7877290e",
   "metadata": {},
   "source": [
    "### 3.1.1 Numerical Simulation"
   ]
  },
  {
   "cell_type": "code",
   "execution_count": null,
   "id": "d852ff14",
   "metadata": {},
   "outputs": [],
   "source": [
    "def lv_dynamics(\n",
    "    t: float,\n",
    "    x: ArrayLike,\n",
    "    alpha: float=2,\n",
    "    beta: float=2,\n",
    "    delta: float=2,\n",
    "    gamma: float=2,\n",
    ") -> NDArray:\n",
    "    \"\"\"Dynamics of the Lotka-Volterra predator-prey system\n",
    "\n",
    "    Args:\n",
    "        x (ArrayLike): N x 2 array of [prey, predator] population\n",
    "        alpha (float, optional): prey growth rate. Defaults to 2.\n",
    "        beta (float, optional): prey death rate due to predators. Defaults to 2.\n",
    "        delta (float, optional): predator growth rate due to prey. Defaults to 2.\n",
    "        gamma (float, optional): predator death rate. Defaults to 2.\n",
    "\n",
    "    Returns:\n",
    "        NDArray: N x 2 array of time derivatives of x1 and x2\n",
    "    \"\"\"\n",
    "    return np.array([alpha * x[0] - beta * x[0] * x[1], delta * x[0] * x[1] - gamma * x[1]])"
   ]
  },
  {
   "cell_type": "code",
   "execution_count": 4,
   "id": "bfe3c80f",
   "metadata": {},
   "outputs": [],
   "source": [
    "# Compute trajectory\n",
    "x0 = np.array([1.5, 1])\n",
    "dt = 0.01\n",
    "t = np.arange(0, 10+dt, dt)\n",
    "solution = solve_ivp(lv_dynamics, (t[0], t[-1]), x0, t_eval=t)\n",
    "x = solution.y.T"
   ]
  },
  {
   "cell_type": "code",
   "execution_count": 5,
   "id": "b89d2c08",
   "metadata": {},
   "outputs": [],
   "source": [
    "# Compute time derivative\n",
    "dxdt_true = np.array([lv_dynamics(0, _x) for _x in x])\n",
    "dxdt_estimate = np.array([np.gradient(_x, t) for _x in x.T])"
   ]
  },
  {
   "cell_type": "code",
   "execution_count": null,
   "id": "af13cee3",
   "metadata": {},
   "outputs": [
    {
     "data": {
      "image/png": "[encoded data removed]",
      "text/plain": [
       "<Figure size 300x300 with 1 Axes>"
      ]
     },
     "metadata": {},
     "output_type": "display_data"
    }
   ],
   "source": [
    "# Plot phase portrait\n",
    "plt.figure(figsize=(3, 3))\n",
    "plt.plot(x[:, 0], x[:, 1])\n",
    "plt.xlabel(\"$x_1$\")\n",
    "plt.ylabel(\"$x_2$\")\n",
    "# plt.title(\"Lotka-Volterra System Phase Portrait\")\n",
    "plt.grid(True)\n",
    "plt.savefig(\"p1fig1.pdf\", bbox_inches=\"tight\")\n",
    "plt.show()"
   ]
  },
  {
   "cell_type": "markdown",
   "id": "7106e186",
   "metadata": {},
   "source": [
    "### 3.1.2 SINDy with 2nd-Order Polynomials"
   ]
  },
  {
   "cell_type": "code",
   "execution_count": 7,
   "id": "fb2d43be",
   "metadata": {},
   "outputs": [
    {
     "name": "stdout",
     "output_type": "stream",
     "text": [
      "threshold: 0.2\n",
      "(x1)' = 2.001 x1 + -2.001 x1 x2\n",
      "(x2)' = -2.002 x2 + 2.002 x1 x2\n",
      "\n",
      "threshold: 0.19\n",
      "(x1)' = 2.001 x1 + -2.001 x1 x2\n",
      "(x2)' = -2.002 x2 + 2.002 x1 x2\n",
      "\n",
      "threshold: 0.18\n",
      "(x1)' = 2.001 x1 + -2.001 x1 x2\n",
      "(x2)' = -2.002 x2 + 2.002 x1 x2\n",
      "\n",
      "threshold: 0.17\n",
      "(x1)' = 2.001 x1 + -2.001 x1 x2\n",
      "(x2)' = -2.002 x2 + 2.002 x1 x2\n",
      "\n",
      "threshold: 0.16\n",
      "(x1)' = 2.001 x1 + -2.001 x1 x2\n",
      "(x2)' = 0.408 1 + -0.408 x1 + -2.450 x2 + 0.197 x1^2 + 1.998 x1 x2 + 0.216 x2^2\n",
      "\n",
      "threshold: 0.15\n",
      "(x1)' = -0.381 1 + 2.374 x1 + 0.427 x2 + -0.182 x1^2 + -1.996 x1 x2 + -0.206 x2^2\n",
      "(x2)' = 0.408 1 + -0.408 x1 + -2.450 x2 + 0.197 x1^2 + 1.998 x1 x2 + 0.216 x2^2\n",
      "\n"
     ]
    }
   ],
   "source": [
    "thresholds = np.array([0.2, 0.19, 0.18, 0.17, 0.16, 0.15])\n",
    "feature_library = ps.feature_library.PolynomialLibrary(degree=2)\n",
    "for threshold in thresholds:\n",
    "    model = ps.SINDy(optimizer=ps.STLSQ(threshold=threshold), feature_names=[\"x1\", \"x2\"])\n",
    "    model.fit(x, t=t)\n",
    "    print(f\"threshold: {threshold}\")\n",
    "    model.print()\n",
    "    print(\"\")"
   ]
  },
  {
   "cell_type": "markdown",
   "id": "ec5dfd6c",
   "metadata": {},
   "source": [
    "### 3.1.4 SINDy with 3rd-Order Polynomials"
   ]
  },
  {
   "cell_type": "code",
   "execution_count": 8,
   "id": "6db46800",
   "metadata": {},
   "outputs": [
    {
     "name": "stdout",
     "output_type": "stream",
     "text": [
      "threshold: 0.2\n",
      "(x1)' = 2.001 x1 + -2.001 x1 x2\n",
      "(x2)' = -2.002 x2 + 2.002 x1 x2\n",
      "\n",
      "threshold: 0.19\n",
      "(x1)' = 2.001 x1 + -2.001 x1 x2\n",
      "(x2)' = -2.002 x2 + 2.002 x1 x2\n",
      "\n",
      "threshold: 0.18\n",
      "(x1)' = 2.001 x1 + -2.001 x1 x2\n",
      "(x2)' = -2.002 x2 + 2.002 x1 x2\n",
      "\n",
      "threshold: 0.17\n",
      "(x1)' = 2.001 x1 + -2.001 x1 x2\n",
      "(x2)' = -2.002 x2 + 2.002 x1 x2\n",
      "\n",
      "threshold: 0.16\n",
      "(x1)' = 2.001 x1 + -2.001 x1 x2\n",
      "(x2)' = 0.408 1 + -0.408 x1 + -2.450 x2 + 0.197 x1^2 + 1.998 x1 x2 + 0.216 x2^2\n",
      "\n",
      "threshold: 0.15\n",
      "(x1)' = -0.381 1 + 2.374 x1 + 0.427 x2 + -0.182 x1^2 + -1.996 x1 x2 + -0.206 x2^2\n",
      "(x2)' = 0.408 1 + -0.408 x1 + -2.450 x2 + 0.197 x1^2 + 1.998 x1 x2 + 0.216 x2^2\n",
      "\n"
     ]
    }
   ],
   "source": [
    "thresholds = np.array([0.2, 0.19, 0.18, 0.17, 0.16, 0.15])\n",
    "feature_library = ps.feature_library.PolynomialLibrary(degree=3)\n",
    "for threshold in thresholds:\n",
    "    model = ps.SINDy(optimizer=ps.STLSQ(threshold=threshold), feature_names=[\"x1\", \"x2\"])\n",
    "    model.fit(x, t=t)\n",
    "    print(f\"threshold: {threshold}\")\n",
    "    model.print()\n",
    "    print(\"\")"
   ]
  },
  {
   "cell_type": "markdown",
   "id": "0785512c",
   "metadata": {},
   "source": [
    "### 3.1.5 SINDy with Noise"
   ]
  },
  {
   "cell_type": "code",
   "execution_count": 9,
   "id": "2df06fbe",
   "metadata": {},
   "outputs": [],
   "source": [
    "np.random.seed(0)\n",
    "x_noisy = x + 0.01 * np.random.randn(*x.shape)\n",
    "dxdt_noisy_estimate = np.array([np.gradient(_x, t) for _x in x_noisy.T]).T"
   ]
  },
  {
   "cell_type": "code",
   "execution_count": null,
   "id": "fca06e92",
   "metadata": {},
   "outputs": [
    {
     "data": {
      "image/png": "[encoded data removed]",
      "text/plain": [
       "<Figure size 500x200 with 1 Axes>"
      ]
     },
     "metadata": {},
     "output_type": "display_data"
    }
   ],
   "source": [
    "plt.figure(figsize=(5, 2))\n",
    "plt.plot(x_noisy)\n",
    "plt.xlabel(\"Time\")\n",
    "plt.ylabel(\"Population Density\")\n",
    "# plt.title(\"Lotka-Volterra Noisy Trajectory\")\n",
    "plt.legend((\"$x_1$\", \"$x_2$\"), loc=\"right\")\n",
    "plt.grid(True)\n",
    "plt.savefig(\"p1fig2.pdf\", bbox_inches=\"tight\")\n",
    "plt.show()"
   ]
  },
  {
   "cell_type": "code",
   "execution_count": 11,
   "id": "fd3609cd",
   "metadata": {},
   "outputs": [
    {
     "name": "stdout",
     "output_type": "stream",
     "text": [
      "threshold: 0.2\n",
      "(x1)' = 1.996 x1 + -2.003 x1 x2\n",
      "(x2)' = -2.013 x2 + 2.015 x1 x2\n",
      "\n",
      "threshold: 0.19\n",
      "(x1)' = 1.996 x1 + -2.003 x1 x2\n",
      "(x2)' = -2.013 x2 + 2.015 x1 x2\n",
      "\n",
      "threshold: 0.18\n",
      "(x1)' = 0.106 1 + 1.939 x1 + -0.136 x2 + -0.001 x1^2 + -1.959 x1 x2 + 0.044 x2^2\n",
      "(x2)' = -2.013 x2 + 2.015 x1 x2\n",
      "\n",
      "threshold: 0.17\n",
      "(x1)' = 0.106 1 + 1.939 x1 + -0.136 x2 + -0.001 x1^2 + -1.959 x1 x2 + 0.044 x2^2\n",
      "(x2)' = -2.013 x2 + 2.015 x1 x2\n",
      "\n",
      "threshold: 0.16\n",
      "(x1)' = 0.106 1 + 1.939 x1 + -0.136 x2 + -0.001 x1^2 + -1.959 x1 x2 + 0.044 x2^2\n",
      "(x2)' = -2.013 x2 + 2.015 x1 x2\n",
      "\n",
      "threshold: 0.15\n",
      "(x1)' = 0.106 1 + 1.939 x1 + -0.136 x2 + -0.001 x1^2 + -1.959 x1 x2 + 0.044 x2^2\n",
      "(x2)' = -2.013 x2 + 2.015 x1 x2\n",
      "\n"
     ]
    }
   ],
   "source": [
    "for threshold in thresholds:\n",
    "    model = ps.SINDy(optimizer=ps.STLSQ(threshold=threshold), feature_names=[\"x1\", \"x2\"])\n",
    "    model.fit(x_noisy, t=t)\n",
    "    print(f\"threshold: {threshold}\")\n",
    "    model.print()\n",
    "    print(\"\")"
   ]
  }
 ],
 "metadata": {
  "kernelspec": {
   "display_name": "base",
   "language": "python",
   "name": "python3"
  },
  "language_info": {
   "codemirror_mode": {
    "name": "ipython",
    "version": 3
   },
   "file_extension": ".py",
   "mimetype": "text/x-python",
   "name": "python",
   "nbconvert_exporter": "python",
   "pygments_lexer": "ipython3",
   "version": "3.11.10"
  }
 },
 "nbformat": 4,
 "nbformat_minor": 5
}
